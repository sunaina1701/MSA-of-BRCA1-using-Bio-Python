{
  "nbformat": 4,
  "nbformat_minor": 0,
  "metadata": {
    "colab": {
      "provenance": [],
      "authorship_tag": "ABX9TyOztdt9lozQ7bs+PRMiUJnd",
      "include_colab_link": true
    },
    "kernelspec": {
      "name": "python3",
      "display_name": "Python 3"
    },
    "language_info": {
      "name": "python"
    }
  },
  "cells": [
    {
      "cell_type": "markdown",
      "metadata": {
        "id": "view-in-github",
        "colab_type": "text"
      },
      "source": [
        "<a href=\"https://colab.research.google.com/github/sunaina1701/MSA-of-BRCA1-using-Bio-Python/blob/main/MSA_(BRCA1_nt).ipynb\" target=\"_parent\"><img src=\"https://colab.research.google.com/assets/colab-badge.svg\" alt=\"Open In Colab\"/></a>"
      ]
    },
    {
      "cell_type": "code",
      "execution_count": null,
      "metadata": {
        "id": "_OE0cKZgGBOz",
        "colab": {
          "base_uri": "https://localhost:8080/"
        },
        "outputId": "b9a70ee8-f67d-4be0-d944-6b6fb51b5279"
      },
      "outputs": [
        {
          "output_type": "stream",
          "name": "stdout",
          "text": [
            "Collecting biopython\n",
            "  Downloading biopython-1.85-cp311-cp311-manylinux_2_17_x86_64.manylinux2014_x86_64.whl.metadata (13 kB)\n",
            "Requirement already satisfied: numpy in /usr/local/lib/python3.11/dist-packages (from biopython) (2.0.2)\n",
            "Downloading biopython-1.85-cp311-cp311-manylinux_2_17_x86_64.manylinux2014_x86_64.whl (3.3 MB)\n",
            "\u001b[2K   \u001b[90m━━━━━━━━━━━━━━━━━━━━━━━━━━━━━━━━━━━━━━━━\u001b[0m \u001b[32m3.3/3.3 MB\u001b[0m \u001b[31m61.5 MB/s\u001b[0m eta \u001b[36m0:00:00\u001b[0m\n",
            "\u001b[?25hInstalling collected packages: biopython\n",
            "Successfully installed biopython-1.85\n",
            "Reading package lists... Done\n",
            "Building dependency tree... Done\n",
            "Reading state information... Done\n",
            "The following additional packages will be installed:\n",
            "  libargtable2-0\n",
            "The following NEW packages will be installed:\n",
            "  clustalo libargtable2-0\n",
            "0 upgraded, 2 newly installed, 0 to remove and 35 not upgraded.\n",
            "Need to get 273 kB of archives.\n",
            "After this operation, 694 kB of additional disk space will be used.\n",
            "Get:1 http://archive.ubuntu.com/ubuntu jammy/universe amd64 libargtable2-0 amd64 13-1.1 [14.1 kB]\n",
            "Get:2 http://archive.ubuntu.com/ubuntu jammy/universe amd64 clustalo amd64 1.2.4-7 [259 kB]\n",
            "Fetched 273 kB in 0s (1,039 kB/s)\n",
            "Selecting previously unselected package libargtable2-0.\n",
            "(Reading database ... 126319 files and directories currently installed.)\n",
            "Preparing to unpack .../libargtable2-0_13-1.1_amd64.deb ...\n",
            "Unpacking libargtable2-0 (13-1.1) ...\n",
            "Selecting previously unselected package clustalo.\n",
            "Preparing to unpack .../clustalo_1.2.4-7_amd64.deb ...\n",
            "Unpacking clustalo (1.2.4-7) ...\n",
            "Setting up libargtable2-0 (13-1.1) ...\n",
            "Setting up clustalo (1.2.4-7) ...\n",
            "Processing triggers for libc-bin (2.35-0ubuntu3.8) ...\n",
            "/sbin/ldconfig.real: /usr/local/lib/libtbbmalloc.so.2 is not a symbolic link\n",
            "\n",
            "/sbin/ldconfig.real: /usr/local/lib/libur_adapter_opencl.so.0 is not a symbolic link\n",
            "\n",
            "/sbin/ldconfig.real: /usr/local/lib/libtbbbind_2_5.so.3 is not a symbolic link\n",
            "\n",
            "/sbin/ldconfig.real: /usr/local/lib/libur_adapter_level_zero.so.0 is not a symbolic link\n",
            "\n",
            "/sbin/ldconfig.real: /usr/local/lib/libtcm_debug.so.1 is not a symbolic link\n",
            "\n",
            "/sbin/ldconfig.real: /usr/local/lib/libur_loader.so.0 is not a symbolic link\n",
            "\n",
            "/sbin/ldconfig.real: /usr/local/lib/libtbbbind_2_0.so.3 is not a symbolic link\n",
            "\n",
            "/sbin/ldconfig.real: /usr/local/lib/libtbb.so.12 is not a symbolic link\n",
            "\n",
            "/sbin/ldconfig.real: /usr/local/lib/libtbbmalloc_proxy.so.2 is not a symbolic link\n",
            "\n",
            "/sbin/ldconfig.real: /usr/local/lib/libumf.so.0 is not a symbolic link\n",
            "\n",
            "/sbin/ldconfig.real: /usr/local/lib/libtbbbind.so.3 is not a symbolic link\n",
            "\n",
            "/sbin/ldconfig.real: /usr/local/lib/libtcm.so.1 is not a symbolic link\n",
            "\n",
            "/sbin/ldconfig.real: /usr/local/lib/libhwloc.so.15 is not a symbolic link\n",
            "\n",
            "Processing triggers for man-db (2.10.2-1) ...\n"
          ]
        }
      ],
      "source": [
        "#install required tools\n",
        "!pip install biopython\n",
        "!apt-get install -y clustalo"
      ]
    },
    {
      "cell_type": "code",
      "source": [
        "from Bio import SeqIO, AlignIO\n",
        "from Bio.Seq import Seq\n",
        "from Bio.SeqRecord import SeqRecord\n",
        "from collections import Counter\n",
        "import subprocess"
      ],
      "metadata": {
        "id": "w7e3HoBKOLIP"
      },
      "execution_count": null,
      "outputs": []
    },
    {
      "cell_type": "code",
      "source": [
        "# Define sequences and write to FASTA file\n",
        "sequences = [\n",
        "    SeqRecord (Seq ( (\"TCTTATTTTTATTTGTTTACATGTCTTTTCTTATTTTAGTGTCCTTAAAAGGTTGATAATCACTTGCTGA\"\n",
        "                      \"GTGTGTTTCTCAAACAATTTAATTTCAGGAGCCTACAAGAAAGTACGAGATTTAGTCAACTTGTTGAAGA\"\n",
        "                      \"GCTATTGAAAATCATTTGTGCTTTTCAGCTTGACACAGGTTTGGAGTGTAAGTGTTGAATATCCCAAGAA\"\n",
        "                      \"TGACACTCAAGTGCTGTCCATGAAAACTCAGGAAGTTTGCACAATTACTTTCTATGACGTGGTGATAAGA\"\n",
        "                      \"CCTTTTAGTCTAGGTTAATTTTAGTTCTGTATCTGTAATCTATTTTTAAAAAATTACTCCCACTGGTCTC\"\n",
        "                      \"ACACC\") ), id=\"seq1\", description=\"\" ),\n",
        "    SeqRecord(Seq((\"CTACTGTTGCTGCATCTTATTTTTATTTGTTTACATGTCTTTTCTTATTTTAGTGTCCTTAAAAGGTTGA\"\n",
        "\"TAATCACTTGCTGAGTGTGTTTCTCAAACAATTTAATTTCAGGAGCCTACAAGAAAGTACGAGATTTAGT\"\n",
        "\"CAACTTGTTGAAGAGCTATTGAAAATCATTTGTGCTTTTCAGCTTGACACAGGTTTGGAGTGTAAGTGTT\"\n",
        "\"GAATATCCCAAGAATGACACTCAAGTGCTGTCCATGAAAACTCAGGAAGTTTGCACAATTACTTTCTATG\"\n",
        "\"ACGTGGTGATAAGACCTTTTAGTCTAGGTTAATTTTAGTTCTGTATCTGTAATCTATTTTTAAAAAATTA\"\n",
        "\"CTCCCACTGGTCTCACACC\")), id=\"seq2\", description=\"\"),\n",
        "    SeqRecord(Seq((\"ATCTTATTTTTATTTGTTTACATGTCTTTTCTTATTTTAGTGTCCTTAAAAGGTTGATAATCACTTGCTR\"\n",
        "\"AGTGTGTTTCTCAAACAATTTAATTTCAGGAGCCTACAAGAAAGTACGAGATTTAGTCAACTTGTTGAAG\"\n",
        "\"AGCTATTGAAAATCATTTGTGCTTTTCAGCTTGACACAGGTTTGGAGTGTAAGTGTTGAATATCCCAAGA\"\n",
        "\"ATGACACTCAAGTGCTGTCCATGAAAACTCAGGAAGTTTGCACAATTACTTTCTATGACGTGGTGATAAG\"\n",
        "\"ACCTTTTAGTCTAGGTTAATTTTAGTTCTGTATCTGTAATCTATTTTTAAAAAATTACTCCCACTGGTCT\"\n",
        "\"CACACCTCA\")), id=\"seq3\", description=\"\"),\n",
        "    SeqRecord(Seq((\"ATCTTATTTTTATTTGTTTACATGTCTTTTCTTATTTTAGTGTCCTTAAAAGGTTGATAATCACTTGCTR\"\n",
        "\"AGTGTGTTTCTCAAACAATTTAATTTCAGGAGCCTACAAGAAAGTACGAGATTTAGTCAACTTGTTGAAG\"\n",
        "\"AGCTATTGAAAATCATTTGTGCTTTTCAGCTTGACACAGGTTTGGAGTGTAAGTGTTGAATATCCCAAGA\"\n",
        "\"ATGACACTCAAGTGCTGTCCATGAAAACTCAGGAAGTTTGCACAATTACTTTCTATGACGTGGTGATAAG\"\n",
        "\"ACCTTTTAGTCTAGGTTAATTTTAGTTCTGTATCTGTAATCTATTTTTAAAAAATTACTCCCACTGGTCT\"\n",
        "\"CACACCTCA\")), id=\"seq4\", description=\"\"),\n",
        "    SeqRecord(Seq((\"TTTTTTAACCCTTTTAATTAAGAAAACTTTTATTGATTTATTTTTTGGGGGGAAATTTTTTAGGATCTGA\"\n",
        "\"TTCTTCTGAAGATACCGTTAATAAGGCAACTTATTGCAGGTGAGTCAAAGAGAACCTTTGTCTATGAAGC\"\n",
        "\"TGGTATTTTCCTATTTAGTTAATATTAAGGATTGATGTTTCTCTCTTTTTAAAAATATTTTAACTTTTAT\"\n",
        "\"TTTAGGTTCAGGGATGTATGTGCAGTTTGTTATATAGGTAAACACACGACTTGGGATTTGGTGTACAGAT\"\n",
        "\"TTTTTTCATCATCCGGGTACTAAGCATA\")), id=\"seq5\", description=\"\")\n",
        "]\n",
        "\n",
        "fasta_file = \"input_sequence.fasta\"\n",
        "with open(fasta_file, \"w\") as f:\n",
        "  SeqIO.write(sequences, f, \"fasta\")"
      ],
      "metadata": {
        "id": "krD6D-o4OVNc"
      },
      "execution_count": null,
      "outputs": []
    },
    {
      "cell_type": "code",
      "source": [
        "#Run Clustal Omega alignment\n",
        "aligned_file = \"aligned_output.fasta\"\n",
        "command = f\"clustalo -i {fasta_file} -o {aligned_file} --force --outfmt=fasta\"\n",
        "subprocess.run(command, shell=True, check=True)"
      ],
      "metadata": {
        "colab": {
          "base_uri": "https://localhost:8080/"
        },
        "id": "B7EodH68P6-g",
        "outputId": "1e6403f7-d032-4b3a-c993-a82cceb0ca78"
      },
      "execution_count": null,
      "outputs": [
        {
          "output_type": "execute_result",
          "data": {
            "text/plain": [
              "CompletedProcess(args='clustalo -i input_sequence.fasta -o aligned_output.fasta --force --outfmt=fasta', returncode=0)"
            ]
          },
          "metadata": {},
          "execution_count": 12
        }
      ]
    },
    {
      "cell_type": "code",
      "source": [
        "# read and display aligned sequences\n",
        "alignment = AlignIO.read(aligned_file, \"fasta\")\n",
        "print(\"Aligned Sequences:\")\n",
        "for record in alignment:\n",
        "  print(f\"{record.id}: {record.seq}\")"
      ],
      "metadata": {
        "colab": {
          "base_uri": "https://localhost:8080/"
        },
        "id": "3AfNYY3PQIhv",
        "outputId": "3e6afab5-7e92-40cb-be82-df5b378a5692"
      },
      "execution_count": null,
      "outputs": [
        {
          "output_type": "stream",
          "name": "stdout",
          "text": [
            "Aligned Sequences:\n",
            "seq1: --------------TCTTATTTTTATTTGTTTACATGTCTTTTCTTATTTTAGTGTCCTTAAAAGGTTGATAATCACTTGCTGAGTGTGTTTCTCAAACAATTTAATTTCAGGAGCCTACAAGAAAGTACGAGATTTAGTCAACTTGTTGAAGAGCTATTGAAAATCATTTGTG--------------CTTTTCAGCTTGACACAGGTTTGGAGTGTAAGTGTTGAATATCCCAAGA------ATGACACTCAAGTGCTGTCCATGAAAACTCAGGAAGTTTGCACAAT---------TACTTTCTATGACGTGGTGATAAGACCTTTTAGTCTAGGTTAATTTTAGTTCTGTATCTGTAATCTATTTTTAAAAAATTACTCCCACTGGTCTCACACC---\n",
            "seq2: CTACTGTTGCTGCATCTTATTTTTATTTGTTTACATGTCTTTTCTTATTTTAGTGTCCTTAAAAGGTTGATAATCACTTGCTGAGTGTGTTTCTCAAACAATTTAATTTCAGGAGCCTACAAGAAAGTACGAGATTTAGTCAACTTGTTGAAGAGCTATTGAAAATCATTTGTG--------------CTTTTCAGCTTGACACAGGTTTGGAGTGTAAGTGTTGAATATCCCAAGA------ATGACACTCAAGTGCTGTCCATGAAAACTCAGGAAGTTTGCACAAT---------TACTTTCTATGACGTGGTGATAAGACCTTTTAGTCTAGGTTAATTTTAGTTCTGTATCTGTAATCTATTTTTAAAAAATTACTCCCACTGGTCTCACACC---\n",
            "seq3: -------------ATCTTATTTTTATTTGTTTACATGTCTTTTCTTATTTTAGTGTCCTTAAAAGGTTGATAATCACTTGCTRAGTGTGTTTCTCAAACAATTTAATTTCAGGAGCCTACAAGAAAGTACGAGATTTAGTCAACTTGTTGAAGAGCTATTGAAAATCATTTGTG--------------CTTTTCAGCTTGACACAGGTTTGGAGTGTAAGTGTTGAATATCCCAAGA------ATGACACTCAAGTGCTGTCCATGAAAACTCAGGAAGTTTGCACAAT---------TACTTTCTATGACGTGGTGATAAGACCTTTTAGTCTAGGTTAATTTTAGTTCTGTATCTGTAATCTATTTTTAAAAAATTACTCCCACTGGTCTCACACCTCA\n",
            "seq4: -------------ATCTTATTTTTATTTGTTTACATGTCTTTTCTTATTTTAGTGTCCTTAAAAGGTTGATAATCACTTGCTRAGTGTGTTTCTCAAACAATTTAATTTCAGGAGCCTACAAGAAAGTACGAGATTTAGTCAACTTGTTGAAGAGCTATTGAAAATCATTTGTG--------------CTTTTCAGCTTGACACAGGTTTGGAGTGTAAGTGTTGAATATCCCAAGA------ATGACACTCAAGTGCTGTCCATGAAAACTCAGGAAGTTTGCACAAT---------TACTTTCTATGACGTGGTGATAAGACCTTTTAGTCTAGGTTAATTTTAGTTCTGTATCTGTAATCTATTTTTAAAAAATTACTCCCACTGGTCTCACACCTCA\n",
            "seq5: ---TT---------TTTTAACCCTTTTAATTAAGAAAACTTTTATTGATTTAT-----TTTTTGGGGGGAAATTTT---------------------------TTAGGATCTGATTCTTCTGAAGATACCGTTAATAAGGCAACTTATTGCAGGTGAGTCAAAGAGAACCTTTGTCTATGAAGCTGGTATTTTCCTATTTAGTTAATATTAAGGATTGATGTTTCTCTCTTTTTAAAAATATTTTAACTTTTATTTTAGGTTCAGGGATGTATGTGCAGTTTGTTATATAGGTAAACACACGACTTGGGATTTGGTGTACAGATTTTTT-------------------TCATCATCCGGGTACTAA-----------------------------GCATA-\n"
          ]
        }
      ]
    },
    {
      "cell_type": "code",
      "source": [
        "# save aligned sequences in CLUSTAL format\n",
        "AlignIO.write(alignment, \"aligned_output.aln\", \"clustal\")"
      ],
      "metadata": {
        "colab": {
          "base_uri": "https://localhost:8080/"
        },
        "id": "DtbFtyjiQUnZ",
        "outputId": "0d2fe493-f10b-40a3-e0dc-ae8dbdf485e5"
      },
      "execution_count": null,
      "outputs": [
        {
          "output_type": "execute_result",
          "data": {
            "text/plain": [
              "1"
            ]
          },
          "metadata": {},
          "execution_count": 14
        }
      ]
    },
    {
      "cell_type": "code",
      "source": [
        "# identify conserved positions\n",
        "print(\"Conserved Positions:\")\n",
        "for i in range(len(alignment[0])) :\n",
        "  column = [record.seq[i] for record in alignment]\n",
        "  counts = Counter(column)\n",
        "  if len(counts) == 1:\n",
        "    print(f\"Position {i+1}: {column[0]} (conserved)\")"
      ],
      "metadata": {
        "colab": {
          "base_uri": "https://localhost:8080/"
        },
        "id": "8XRUvzdnQbzt",
        "outputId": "b3839520-751c-4692-ee0b-e901f20a6d42"
      },
      "execution_count": null,
      "outputs": [
        {
          "output_type": "stream",
          "name": "stdout",
          "text": [
            "Conserved Positions:\n",
            "Position 15: T (conserved)\n",
            "Position 17: T (conserved)\n",
            "Position 18: T (conserved)\n",
            "Position 19: A (conserved)\n",
            "Position 24: T (conserved)\n",
            "Position 26: T (conserved)\n",
            "Position 27: T (conserved)\n",
            "Position 30: T (conserved)\n",
            "Position 31: T (conserved)\n",
            "Position 33: A (conserved)\n",
            "Position 35: A (conserved)\n",
            "Position 39: C (conserved)\n",
            "Position 40: T (conserved)\n",
            "Position 41: T (conserved)\n",
            "Position 42: T (conserved)\n",
            "Position 43: T (conserved)\n",
            "Position 45: T (conserved)\n",
            "Position 46: T (conserved)\n",
            "Position 49: T (conserved)\n",
            "Position 50: T (conserved)\n",
            "Position 51: T (conserved)\n",
            "Position 52: A (conserved)\n",
            "Position 59: T (conserved)\n",
            "Position 60: T (conserved)\n",
            "Position 65: G (conserved)\n",
            "Position 66: G (conserved)\n",
            "Position 69: G (conserved)\n",
            "Position 70: A (conserved)\n",
            "Position 72: A (conserved)\n",
            "Position 74: T (conserved)\n",
            "Position 104: T (conserved)\n",
            "Position 106: A (conserved)\n",
            "Position 113: G (conserved)\n",
            "Position 114: A (conserved)\n",
            "Position 117: C (conserved)\n",
            "Position 118: T (conserved)\n",
            "Position 120: C (conserved)\n",
            "Position 124: A (conserved)\n",
            "Position 126: A (conserved)\n",
            "Position 130: C (conserved)\n",
            "Position 131: G (conserved)\n",
            "Position 134: A (conserved)\n",
            "Position 136: T (conserved)\n",
            "Position 138: A (conserved)\n",
            "Position 139: G (conserved)\n",
            "Position 141: C (conserved)\n",
            "Position 142: A (conserved)\n",
            "Position 143: A (conserved)\n",
            "Position 144: C (conserved)\n",
            "Position 145: T (conserved)\n",
            "Position 146: T (conserved)\n",
            "Position 148: T (conserved)\n",
            "Position 149: T (conserved)\n",
            "Position 150: G (conserved)\n",
            "Position 152: A (conserved)\n",
            "Position 153: G (conserved)\n",
            "Position 159: T (conserved)\n",
            "Position 162: A (conserved)\n",
            "Position 163: A (conserved)\n",
            "Position 165: A (conserved)\n",
            "Position 168: A (conserved)\n",
            "Position 171: T (conserved)\n",
            "Position 173: T (conserved)\n",
            "Position 174: G (conserved)\n",
            "Position 190: T (conserved)\n",
            "Position 191: T (conserved)\n",
            "Position 192: T (conserved)\n",
            "Position 193: T (conserved)\n",
            "Position 194: C (conserved)\n",
            "Position 198: T (conserved)\n",
            "Position 199: T (conserved)\n",
            "Position 201: A (conserved)\n",
            "Position 205: A (conserved)\n",
            "Position 209: T (conserved)\n",
            "Position 210: T (conserved)\n",
            "Position 214: G (conserved)\n",
            "Position 217: T (conserved)\n",
            "Position 219: A (conserved)\n",
            "Position 223: T (conserved)\n",
            "Position 224: T (conserved)\n",
            "Position 228: T (conserved)\n",
            "Position 230: T (conserved)\n",
            "Position 235: A (conserved)\n",
            "Position 237: A (conserved)\n",
            "Position 245: T (conserved)\n",
            "Position 247: A (conserved)\n",
            "Position 248: C (conserved)\n",
            "Position 251: T (conserved)\n",
            "Position 253: A (conserved)\n",
            "Position 256: T (conserved)\n",
            "Position 260: G (conserved)\n",
            "Position 261: T (conserved)\n",
            "Position 263: C (conserved)\n",
            "Position 264: A (conserved)\n",
            "Position 266: G (conserved)\n",
            "Position 268: A (conserved)\n",
            "Position 276: G (conserved)\n",
            "Position 278: A (conserved)\n",
            "Position 279: G (conserved)\n",
            "Position 280: T (conserved)\n",
            "Position 281: T (conserved)\n",
            "Position 282: T (conserved)\n",
            "Position 283: G (conserved)\n",
            "Position 288: A (conserved)\n",
            "Position 289: T (conserved)\n",
            "Position 300: A (conserved)\n",
            "Position 301: C (conserved)\n",
            "Position 306: T (conserved)\n",
            "Position 309: G (conserved)\n",
            "Position 310: A (conserved)\n",
            "Position 313: T (conserved)\n",
            "Position 314: G (conserved)\n",
            "Position 315: G (conserved)\n",
            "Position 316: T (conserved)\n",
            "Position 317: G (conserved)\n",
            "Position 321: A (conserved)\n",
            "Position 322: G (conserved)\n",
            "Position 323: A (conserved)\n",
            "Position 326: T (conserved)\n",
            "Position 327: T (conserved)\n",
            "Position 328: T (conserved)\n",
            "Position 329: T (conserved)\n",
            "Position 349: T (conserved)\n",
            "Position 350: C (conserved)\n",
            "Position 354: A (conserved)\n",
            "Position 355: T (conserved)\n",
            "Position 356: C (conserved)\n",
            "Position 358: G (conserved)\n",
            "Position 363: C (conserved)\n",
            "Position 364: T (conserved)\n",
            "Position 365: A (conserved)\n",
            "Position 397: C (conserved)\n"
          ]
        }
      ]
    },
    {
      "cell_type": "code",
      "source": [
        "#heatmap of conservation across alignment\n",
        "import matplotlib.pyplot as plt\n",
        "import seaborn as sns\n",
        "import numpy as np\n",
        "\n",
        "#build a matrix of character frequencies per column\n",
        "alignment_array = np.array([list(rec.seq) for rec in alignment])\n",
        "num_seqs, seq_len = alignment_array.shape\n",
        "\n",
        "#count most common characters per column\n",
        "conservation_scores =[]\n",
        "for i in range(seq_len):\n",
        "  column = alignment_array[:,i]\n",
        "  counts = Counter(column)\n",
        "  most_common = counts.most_common(1)[0][1]\n",
        "  score = most_common / num_seqs\n",
        "  conservation_scores.append(score)\n",
        "\n",
        "#plot conservation\n",
        "plt.figure(figsize=(12,2))\n",
        "sns.heatmap([conservation_scores], cmap=\"Blues\", cbar=True , xticklabels=False , yticklabels=[\"Conservation\"] )\n",
        "plt.title(\"Conservation score across alignment positions\")\n",
        "plt.xlabel(\"Position\")\n",
        "plt.show()"
      ],
      "metadata": {
        "colab": {
          "base_uri": "https://localhost:8080/",
          "height": 232
        },
        "id": "RWPtW6dJSseN",
        "outputId": "a2d81746-4827-4938-8c6e-b51b30b0cf7b"
      },
      "execution_count": null,
      "outputs": [
        {
          "output_type": "display_data",
          "data": {
            "text/plain": [
              "<Figure size 1200x200 with 2 Axes>"
            ],
            "image/png": "[encoded data removed]"
          },
          "metadata": {}
        }
      ]
    },
    {
      "cell_type": "code",
      "source": [
        "# generate and visualize phylogenetic tree\n",
        "!pip install biopython\n",
        "from Bio import Phylo\n",
        "import subprocess\n",
        "\n",
        "#use the alignment saved in CLUSTAL format\n",
        "aln_file = \"aligned_output.aln\"\n",
        "dnd_file = \"alignment.dnd\"\n",
        "fasta_file = \"input_sequence.fasta\" # Assuming fasta_file is defined elsewhere\n",
        "\n",
        "#generate tree using Clustal omega again ( outputs.dnd file)\n",
        "tree_cmd = f\"clustalo -i {fasta_file} -o {aln_file} --guidetree-out={dnd_file} --force --outfmt=clustal\"\n",
        "subprocess.run(tree_cmd, shell=True, check=True)\n",
        "\n",
        "#read and draw tree\n",
        "tree= Phylo.read(dnd_file, \"newick\")\n",
        "Phylo.draw(tree)"
      ],
      "metadata": {
        "colab": {
          "base_uri": "https://localhost:8080/",
          "height": 484
        },
        "id": "HbsHgUxQS2yn",
        "outputId": "b21e68df-ce24-4fc3-ebd9-fa767a121dfe"
      },
      "execution_count": null,
      "outputs": [
        {
          "output_type": "stream",
          "name": "stdout",
          "text": [
            "Requirement already satisfied: biopython in /usr/local/lib/python3.11/dist-packages (1.85)\n",
            "Requirement already satisfied: numpy in /usr/local/lib/python3.11/dist-packages (from biopython) (2.0.2)\n"
          ]
        },
        {
          "output_type": "display_data",
          "data": {
            "text/plain": [
              "<Figure size 640x480 with 1 Axes>"
            ],
            "image/png": "[encoded data removed]"
          },
          "metadata": {}
        }
      ]
    },
    {
      "cell_type": "code",
      "source": [
        "#print alignment with '*' for conserved positions\n",
        "print (\"Alignment with conserved positions marked by '*' :\")\n",
        "for record in alignment:\n",
        "  print(f\"{record.id:<10}: {record.seq}\")\n",
        "\n",
        "#identify conserved positions\n",
        "cons_line = \"\"\n",
        "for i in range(seq_len):\n",
        "  col = [record.seq[i] for record in alignment]\n",
        "  if all(base == col[0] for base in col):\n",
        "    cons_line += \"*\"\n",
        "  else:\n",
        "    cons_line += \" \"\n",
        "print( \" \" * 11 + cons_line)"
      ],
      "metadata": {
        "colab": {
          "base_uri": "https://localhost:8080/"
        },
        "id": "wv3DDFshTFaF",
        "outputId": "71777bb4-e2d2-4ad0-dd33-e991204ac188"
      },
      "execution_count": null,
      "outputs": [
        {
          "output_type": "stream",
          "name": "stdout",
          "text": [
            "Alignment with conserved positions marked by '*' :\n",
            "seq1      : --------------TCTTATTTTTATTTGTTTACATGTCTTTTCTTATTTTAGTGTCCTTAAAAGGTTGATAATCACTTGCTGAGTGTGTTTCTCAAACAATTTAATTTCAGGAGCCTACAAGAAAGTACGAGATTTAGTCAACTTGTTGAAGAGCTATTGAAAATCATTTGTG--------------CTTTTCAGCTTGACACAGGTTTGGAGTGTAAGTGTTGAATATCCCAAGA------ATGACACTCAAGTGCTGTCCATGAAAACTCAGGAAGTTTGCACAAT---------TACTTTCTATGACGTGGTGATAAGACCTTTTAGTCTAGGTTAATTTTAGTTCTGTATCTGTAATCTATTTTTAAAAAATTACTCCCACTGGTCTCACACC---\n",
            "seq2      : CTACTGTTGCTGCATCTTATTTTTATTTGTTTACATGTCTTTTCTTATTTTAGTGTCCTTAAAAGGTTGATAATCACTTGCTGAGTGTGTTTCTCAAACAATTTAATTTCAGGAGCCTACAAGAAAGTACGAGATTTAGTCAACTTGTTGAAGAGCTATTGAAAATCATTTGTG--------------CTTTTCAGCTTGACACAGGTTTGGAGTGTAAGTGTTGAATATCCCAAGA------ATGACACTCAAGTGCTGTCCATGAAAACTCAGGAAGTTTGCACAAT---------TACTTTCTATGACGTGGTGATAAGACCTTTTAGTCTAGGTTAATTTTAGTTCTGTATCTGTAATCTATTTTTAAAAAATTACTCCCACTGGTCTCACACC---\n",
            "seq3      : -------------ATCTTATTTTTATTTGTTTACATGTCTTTTCTTATTTTAGTGTCCTTAAAAGGTTGATAATCACTTGCTRAGTGTGTTTCTCAAACAATTTAATTTCAGGAGCCTACAAGAAAGTACGAGATTTAGTCAACTTGTTGAAGAGCTATTGAAAATCATTTGTG--------------CTTTTCAGCTTGACACAGGTTTGGAGTGTAAGTGTTGAATATCCCAAGA------ATGACACTCAAGTGCTGTCCATGAAAACTCAGGAAGTTTGCACAAT---------TACTTTCTATGACGTGGTGATAAGACCTTTTAGTCTAGGTTAATTTTAGTTCTGTATCTGTAATCTATTTTTAAAAAATTACTCCCACTGGTCTCACACCTCA\n",
            "seq4      : -------------ATCTTATTTTTATTTGTTTACATGTCTTTTCTTATTTTAGTGTCCTTAAAAGGTTGATAATCACTTGCTRAGTGTGTTTCTCAAACAATTTAATTTCAGGAGCCTACAAGAAAGTACGAGATTTAGTCAACTTGTTGAAGAGCTATTGAAAATCATTTGTG--------------CTTTTCAGCTTGACACAGGTTTGGAGTGTAAGTGTTGAATATCCCAAGA------ATGACACTCAAGTGCTGTCCATGAAAACTCAGGAAGTTTGCACAAT---------TACTTTCTATGACGTGGTGATAAGACCTTTTAGTCTAGGTTAATTTTAGTTCTGTATCTGTAATCTATTTTTAAAAAATTACTCCCACTGGTCTCACACCTCA\n",
            "seq5      : ---TT---------TTTTAACCCTTTTAATTAAGAAAACTTTTATTGATTTAT-----TTTTTGGGGGGAAATTTT---------------------------TTAGGATCTGATTCTTCTGAAGATACCGTTAATAAGGCAACTTATTGCAGGTGAGTCAAAGAGAACCTTTGTCTATGAAGCTGGTATTTTCCTATTTAGTTAATATTAAGGATTGATGTTTCTCTCTTTTTAAAAATATTTTAACTTTTATTTTAGGTTCAGGGATGTATGTGCAGTTTGTTATATAGGTAAACACACGACTTGGGATTTGGTGTACAGATTTTTT-------------------TCATCATCCGGGTACTAA-----------------------------GCATA-\n",
            "                         * ***    * **  ** * *   ***** **  ****      **    **  ** * *                             * *      **  ** *   * *   **  * * ** ****** *** **     *  ** *  *  * **               *****   ** *   *   **   *  * *   **   * *    * *       * **  * *  *   ** ** * *       * ******    **          **    *  **  *****   ***  ****                   **   *** *    ***                               *    \n"
          ]
        }
      ]
    }
  ]
}